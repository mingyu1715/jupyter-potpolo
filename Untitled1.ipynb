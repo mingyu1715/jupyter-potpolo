{
 "cells": [
  {
   "cell_type": "code",
   "execution_count": 1,
   "id": "bda1fbed",
   "metadata": {},
   "outputs": [
    {
     "ename": "IndexError",
     "evalue": "list index out of range",
     "output_type": "error",
     "traceback": [
      "\u001b[1;31m---------------------------------------------------------------------------\u001b[0m",
      "\u001b[1;31mIndexError\u001b[0m                                Traceback (most recent call last)",
      "Cell \u001b[1;32mIn[1], line 42\u001b[0m\n\u001b[0;32m     40\u001b[0m     \u001b[39mfor\u001b[39;00m row \u001b[39min\u001b[39;00m data0[i]:\n\u001b[0;32m     41\u001b[0m         index_y \u001b[39m=\u001b[39m \u001b[39m24\u001b[39m \u001b[39mif\u001b[39;00m i \u001b[39m==\u001b[39m \u001b[39m0\u001b[39m \u001b[39melse\u001b[39;00m \u001b[39m28\u001b[39m \u001b[39mif\u001b[39;00m i \u001b[39m!=\u001b[39m \u001b[39m1\u001b[39m \u001b[39melse\u001b[39;00m \u001b[39m23\u001b[39m\n\u001b[1;32m---> 42\u001b[0m         a1[i] \u001b[39m+\u001b[39m\u001b[39m=\u001b[39m \u001b[39mint\u001b[39m(row[index_y])\n\u001b[0;32m     44\u001b[0m \u001b[39m# 지역별 학급당 학생 수\u001b[39;00m\n\u001b[0;32m     45\u001b[0m a2 \u001b[39m=\u001b[39m [\u001b[39m0\u001b[39m] \u001b[39m*\u001b[39m \u001b[39m15\u001b[39m\n",
      "\u001b[1;31mIndexError\u001b[0m: list index out of range"
     ]
    }
   ],
   "source": [
    "import os\n",
    "import csv\n",
    "import matplotlib.pyplot as plt\n",
    "\n",
    "# 디렉토리 내 모든 파일 이름 가져오기\n",
    "file_names = [name for name in os.listdir(\".\") if name.endswith(\".csv\")]\n",
    "\n",
    "# 파일 열기 및 데이터 구조화\n",
    "data0 = []\n",
    "for file_name in file_names:\n",
    "    with open(file_name, encoding=\"ANSI\") as file:\n",
    "        reader = csv.reader(file, delimiter=\",\")\n",
    "        next(reader)\n",
    "        next(reader)\n",
    "        next(reader)\n",
    "        data0.append(list(reader))\n",
    "\n",
    "# 연도별 그래프를 위한 리스트 선언\n",
    "list1 = [\n",
    "    \"2022\",\n",
    "    \"2021\",\n",
    "    \"202\",\n",
    "    \"2019\",\n",
    "    \"2018\",\n",
    "    \"2017\",\n",
    "    \"2016\",\n",
    "    \"2015\",\n",
    "    \"2014\",\n",
    "    \"2013\",\n",
    "    \"2012\",\n",
    "    \"2011\",\n",
    "    \"2010\",\n",
    "    \"2009\",\n",
    " \"2008\",\n",
    "]\n",
    "\n",
    "# 지역별 1학급 이상 학생 수\n",
    "a1 = [0] * 15\n",
    "for i in range(15):\n",
    "    for row in data0[i]:\n",
    "        index_y = 24 if i == 0 else 28 if i != 1 else 23\n",
    "        a1[i] += int(row[index_y])\n",
    "\n",
    "# 지역별 학급당 학생 수\n",
    "a2 = [0] * 15\n",
    "for i in range(15):\n",
    "    for row in data0[i]:\n",
    "        index_y = 23 if i == 0 else 21 if i != 1 else 20\n",
    "        a2[i] += int(row[index_y])\n",
    "\n",
    "# 그래프 그리기\n",
    "plt.figure(figsize=(10, 5))\n",
    "plt.title(\"과밀학급 비율\")\n",
    "plt.xlabel(\"연도\")\n",
    "plt.ylabel(\"과밀학급 비율\")\n",
    "\n",
    "# a1 그래프 그리기\n",
    "for i in range(len(a1)):\n",
    "    plt.plot(list1, [x / 1000 for x in a1[i]], label=f\"{data0[i][0][0]} 1학급 이상 학생 수\")\n",
    "\n",
    "# a2 그래프 그리기\n",
    "for i in range(len(a2)):\n",
    "    plt.plot(list1, [x / 1000 for x in a2[i]], label=f\"{data0[i][0][0]} 학급당 학생 수\")\n",
    "\n",
    "plt.legend()  # 범례 표시\n",
    "plt.show()  # 그래프 출력"
   ]
  },
  {
   "cell_type": "code",
   "execution_count": null,
   "id": "e5ac284a",
   "metadata": {},
   "outputs": [],
   "source": []
  },
  {
   "cell_type": "code",
   "execution_count": null,
   "id": "d026d8a9",
   "metadata": {},
   "outputs": [],
   "source": []
  },
  {
   "cell_type": "code",
   "execution_count": null,
   "id": "38c9e82e",
   "metadata": {},
   "outputs": [],
   "source": []
  },
  {
   "cell_type": "code",
   "execution_count": null,
   "id": "0438786d",
   "metadata": {},
   "outputs": [],
   "source": []
  },
  {
   "cell_type": "code",
   "execution_count": null,
   "id": "f85df188",
   "metadata": {},
   "outputs": [],
   "source": []
  }
 ],
 "metadata": {
  "kernelspec": {
   "display_name": "Python 3 (ipykernel)",
   "language": "python",
   "name": "python3"
  },
  "language_info": {
   "codemirror_mode": {
    "name": "ipython",
    "version": 3
   },
   "file_extension": ".py",
   "mimetype": "text/x-python",
   "name": "python",
   "nbconvert_exporter": "python",
   "pygments_lexer": "ipython3",
   "version": "3.10.1"
  }
 },
 "nbformat": 4,
 "nbformat_minor": 5
}
